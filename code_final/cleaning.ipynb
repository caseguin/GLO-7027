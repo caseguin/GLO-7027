{
 "cells": [
  {
   "cell_type": "markdown",
   "metadata": {},
   "source": [
    "***\n",
    "# Nettoyage des données\n",
    "***"
   ]
  },
  {
   "cell_type": "code",
   "execution_count": 1,
   "metadata": {},
   "outputs": [],
   "source": [
    "# ====== Importer les library ====== #\n",
    "import pandas as pd\n",
    "import numpy as np\n",
    "\n",
    "pd.set_option('display.max_columns', None)"
   ]
  },
  {
   "cell_type": "code",
   "execution_count": 11,
   "metadata": {},
   "outputs": [],
   "source": [
    "# ====== Déterminer les path ====== #\n",
    "import os\n",
    "cwd = os.getcwd()\n",
    "parent = os.path.dirname(cwd)\n",
    "\n",
    "data_path = parent + '\\\\data\\\\'"
   ]
  },
  {
   "cell_type": "code",
   "execution_count": 14,
   "metadata": {},
   "outputs": [
    {
     "data": {
      "text/html": [
       "<div>\n",
       "<style scoped>\n",
       "    .dataframe tbody tr th:only-of-type {\n",
       "        vertical-align: middle;\n",
       "    }\n",
       "\n",
       "    .dataframe tbody tr th {\n",
       "        vertical-align: top;\n",
       "    }\n",
       "\n",
       "    .dataframe thead th {\n",
       "        text-align: right;\n",
       "    }\n",
       "</style>\n",
       "<table border=\"1\" class=\"dataframe\">\n",
       "  <thead>\n",
       "    <tr style=\"text-align: right;\">\n",
       "      <th></th>\n",
       "      <th>IDENTITY_ATTACK</th>\n",
       "      <th>INSULT</th>\n",
       "      <th>PROFANITY</th>\n",
       "      <th>SEVERE_TOXICITY</th>\n",
       "      <th>THREAT</th>\n",
       "      <th>TOXICITY</th>\n",
       "      <th>comment_count</th>\n",
       "      <th>created_time</th>\n",
       "      <th>id</th>\n",
       "      <th>like_count</th>\n",
       "      <th>message</th>\n",
       "      <th>parent</th>\n",
       "      <th>postId</th>\n",
       "    </tr>\n",
       "  </thead>\n",
       "  <tbody>\n",
       "    <tr>\n",
       "      <th>0</th>\n",
       "      <td>0.102216</td>\n",
       "      <td>0.651296</td>\n",
       "      <td>0.664565</td>\n",
       "      <td>0.350583</td>\n",
       "      <td>0.029933</td>\n",
       "      <td>0.588517</td>\n",
       "      <td>0</td>\n",
       "      <td>2023-06-02T16:06:59+0000</td>\n",
       "      <td>722477749883613_788168749338745</td>\n",
       "      <td>0</td>\n",
       "      <td>Faux, ce ne sera jamais le temps pour lui car ...</td>\n",
       "      <td>NaN</td>\n",
       "      <td>192978590727638_722477749883613</td>\n",
       "    </tr>\n",
       "    <tr>\n",
       "      <th>1</th>\n",
       "      <td>0.005476</td>\n",
       "      <td>0.167515</td>\n",
       "      <td>0.255499</td>\n",
       "      <td>0.006981</td>\n",
       "      <td>0.005647</td>\n",
       "      <td>0.176317</td>\n",
       "      <td>1</td>\n",
       "      <td>2023-06-02T16:21:43+0000</td>\n",
       "      <td>722477749883613_1593974021087773</td>\n",
       "      <td>1</td>\n",
       "      <td>Mon dieu!! On nous prend sérieusement pour des...</td>\n",
       "      <td>NaN</td>\n",
       "      <td>192978590727638_722477749883613</td>\n",
       "    </tr>\n",
       "  </tbody>\n",
       "</table>\n",
       "</div>"
      ],
      "text/plain": [
       "   IDENTITY_ATTACK    INSULT  PROFANITY  SEVERE_TOXICITY    THREAT  TOXICITY  \\\n",
       "0         0.102216  0.651296   0.664565         0.350583  0.029933  0.588517   \n",
       "1         0.005476  0.167515   0.255499         0.006981  0.005647  0.176317   \n",
       "\n",
       "   comment_count              created_time                                id  \\\n",
       "0              0  2023-06-02T16:06:59+0000   722477749883613_788168749338745   \n",
       "1              1  2023-06-02T16:21:43+0000  722477749883613_1593974021087773   \n",
       "\n",
       "   like_count                                            message parent  \\\n",
       "0           0  Faux, ce ne sera jamais le temps pour lui car ...    NaN   \n",
       "1           1  Mon dieu!! On nous prend sérieusement pour des...    NaN   \n",
       "\n",
       "                            postId  \n",
       "0  192978590727638_722477749883613  \n",
       "1  192978590727638_722477749883613  "
      ]
     },
     "execution_count": 14,
     "metadata": {},
     "output_type": "execute_result"
    }
   ],
   "source": [
    "# ====== Importer les df ====== #\n",
    "comments = pd.read_csv(data_path + 'Comments.csv')\n",
    "posts = pd.read_csv(data_path + 'Posts.csv')\n",
    "\n",
    "comments.head(2)"
   ]
  },
  {
   "cell_type": "code",
   "execution_count": null,
   "metadata": {},
   "outputs": [],
   "source": [
    "# ====== Merge les df ====== #\n",
    "df_merge = pd.merge(comments, posts, left_on='postId', right_on='id', indicator=True, suffixes=('_comments', '_posts'))\n",
    "df_merge.head(2)\n",
    "\n",
    "\n",
    "# Analyse du merge \n",
    "unique_list = []\n",
    "for value in df_merge['_merge'].unique():\n",
    "    unique_list.append(value)\n",
    "\n",
    "if (len(unique_list) == 1) & (unique_list[0] == 'both'):\n",
    "    print('Tous les lignes merge')\n",
    "else :\n",
    "    print('Certaines lignes ne sont pas merge')\n",
    "\n",
    "\n",
    "df_merge = df_merge.drop(columns='_merge')"
   ]
  },
  {
   "cell_type": "code",
   "execution_count": null,
   "metadata": {},
   "outputs": [],
   "source": [
    "# ====== Visualisation des valeurs manquantes ====== #\n",
    "print('Missing value')\n",
    "print('*'*25)\n",
    "print(f'Nombre de lignes : {len(df_merge)}')\n",
    "for col in df_merge.columns.to_list():\n",
    "    nb_na = df_merge[col].isna().sum()\n",
    "    perc = round(df_merge[col].isna().sum()/len(df_merge)*100)\n",
    "    print(f'{col.ljust(21)} : {str(nb_na).rjust(11)} ({perc}%)')"
   ]
  },
  {
   "cell_type": "code",
   "execution_count": null,
   "metadata": {},
   "outputs": [],
   "source": [
    "# ====== convertir le temps en format datetime ====== #\n",
    "df_merge['comment_time'] = pd.to_datetime(df_merge['created_time_comments'])\n",
    "df_merge['post_time'] = pd.to_datetime(df_merge['created_time_posts'])\n",
    "df_merge = df_merge.drop(columns=['created_time_comments', 'created_time_posts'])\n",
    "df_merge.head(2)"
   ]
  },
  {
   "cell_type": "code",
   "execution_count": null,
   "metadata": {},
   "outputs": [],
   "source": [
    "# ====== Ajout d'information en lien avec l'attribut parent ====== #\n",
    "\n",
    "# L'attribut prent indique le id du commentaire auquel ce commentaire est répondu.\n",
    "# Les valeurs manquantes indiquent que le commentaire répond à la publication originale.\n",
    "# Possibilité d'intégrer de l'info du commentaire répondu\n",
    "\n",
    "# Ajout de colone binaire pour la réponse à un commentaire ou a la publication originale\n",
    "df_merge['reponse_a_commentaire'] = np.where(df_merge['parent'].notna(), 1, 0)\n",
    "df_merge['reponse_a_publication'] = np.where(df_merge['parent'].isna(), 1, 0)\n",
    "\n",
    "# Ajout des indices du commentaire parent\n",
    "cols = ['IDENTITY_ATTACK', 'INSULT', 'PROFANITY', 'SEVERE_TOXICITY', 'THREAT', 'TOXICITY', 'message_comments', 'id_comments']\n",
    "df_merge = pd.merge(df_merge, df_merge[cols], left_on='parent', right_on='id_comments', suffixes=('', '_parent'))\n",
    "\n",
    "df_merge.head(2)"
   ]
  },
  {
   "cell_type": "code",
   "execution_count": null,
   "metadata": {},
   "outputs": [],
   "source": [
    "# ====== Éliminer les colonnes non-pertinantes ====== #\n",
    "colones_non_utiles = ['id_comments', 'parent', 'postId', 'attachments.data', 'id_posts', 'id_comments_parent', 'permalink_url']\n",
    "df_merge = df_merge.drop(columns=colones_non_utiles)\n",
    "df_merge.head(2)"
   ]
  }
 ],
 "metadata": {
  "kernelspec": {
   "display_name": "base",
   "language": "python",
   "name": "python3"
  },
  "language_info": {
   "codemirror_mode": {
    "name": "ipython",
    "version": 3
   },
   "file_extension": ".py",
   "mimetype": "text/x-python",
   "name": "python",
   "nbconvert_exporter": "python",
   "pygments_lexer": "ipython3",
   "version": "3.10.11"
  }
 },
 "nbformat": 4,
 "nbformat_minor": 2
}
