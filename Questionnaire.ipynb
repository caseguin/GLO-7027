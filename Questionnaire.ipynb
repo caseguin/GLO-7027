{
 "cells": [
  {
   "cell_type": "markdown",
   "metadata": {},
   "source": [
    "***\n",
    "# Exploration des données\n",
    "***"
   ]
  },
  {
   "cell_type": "code",
   "execution_count": 1,
   "metadata": {},
   "outputs": [],
   "source": [
    "import pandas as pd"
   ]
  },
  {
   "cell_type": "code",
   "execution_count": 3,
   "metadata": {},
   "outputs": [],
   "source": [
    "comments = pd.read_csv('Comments.csv')"
   ]
  },
  {
   "cell_type": "code",
   "execution_count": 4,
   "metadata": {},
   "outputs": [
    {
     "data": {
      "text/html": [
       "<div>\n",
       "<style scoped>\n",
       "    .dataframe tbody tr th:only-of-type {\n",
       "        vertical-align: middle;\n",
       "    }\n",
       "\n",
       "    .dataframe tbody tr th {\n",
       "        vertical-align: top;\n",
       "    }\n",
       "\n",
       "    .dataframe thead th {\n",
       "        text-align: right;\n",
       "    }\n",
       "</style>\n",
       "<table border=\"1\" class=\"dataframe\">\n",
       "  <thead>\n",
       "    <tr style=\"text-align: right;\">\n",
       "      <th></th>\n",
       "      <th>IDENTITY_ATTACK</th>\n",
       "      <th>INSULT</th>\n",
       "      <th>PROFANITY</th>\n",
       "      <th>SEVERE_TOXICITY</th>\n",
       "      <th>THREAT</th>\n",
       "      <th>TOXICITY</th>\n",
       "      <th>comment_count</th>\n",
       "      <th>created_time</th>\n",
       "      <th>id</th>\n",
       "      <th>like_count</th>\n",
       "      <th>message</th>\n",
       "      <th>parent</th>\n",
       "      <th>postId</th>\n",
       "    </tr>\n",
       "  </thead>\n",
       "  <tbody>\n",
       "    <tr>\n",
       "      <th>0</th>\n",
       "      <td>0.102216</td>\n",
       "      <td>0.651296</td>\n",
       "      <td>0.664565</td>\n",
       "      <td>0.350583</td>\n",
       "      <td>0.029933</td>\n",
       "      <td>0.588517</td>\n",
       "      <td>0</td>\n",
       "      <td>2023-06-02T16:06:59+0000</td>\n",
       "      <td>722477749883613_788168749338745</td>\n",
       "      <td>0</td>\n",
       "      <td>Faux, ce ne sera jamais le temps pour lui car ...</td>\n",
       "      <td>NaN</td>\n",
       "      <td>192978590727638_722477749883613</td>\n",
       "    </tr>\n",
       "    <tr>\n",
       "      <th>1</th>\n",
       "      <td>0.005476</td>\n",
       "      <td>0.167515</td>\n",
       "      <td>0.255499</td>\n",
       "      <td>0.006981</td>\n",
       "      <td>0.005647</td>\n",
       "      <td>0.176317</td>\n",
       "      <td>1</td>\n",
       "      <td>2023-06-02T16:21:43+0000</td>\n",
       "      <td>722477749883613_1593974021087773</td>\n",
       "      <td>1</td>\n",
       "      <td>Mon dieu!! On nous prend sérieusement pour des...</td>\n",
       "      <td>NaN</td>\n",
       "      <td>192978590727638_722477749883613</td>\n",
       "    </tr>\n",
       "    <tr>\n",
       "      <th>2</th>\n",
       "      <td>0.029144</td>\n",
       "      <td>0.269578</td>\n",
       "      <td>0.016753</td>\n",
       "      <td>0.006104</td>\n",
       "      <td>0.005864</td>\n",
       "      <td>0.246033</td>\n",
       "      <td>0</td>\n",
       "      <td>2023-06-02T17:29:58+0000</td>\n",
       "      <td>722477749883613_779062990381463</td>\n",
       "      <td>0</td>\n",
       "      <td>Denise Morais ..Oui et avec raison ! (Car \"nou...</td>\n",
       "      <td>722477749883613_1593974021087773</td>\n",
       "      <td>192978590727638_722477749883613</td>\n",
       "    </tr>\n",
       "  </tbody>\n",
       "</table>\n",
       "</div>"
      ],
      "text/plain": [
       "   IDENTITY_ATTACK    INSULT  PROFANITY  SEVERE_TOXICITY    THREAT  TOXICITY  \\\n",
       "0         0.102216  0.651296   0.664565         0.350583  0.029933  0.588517   \n",
       "1         0.005476  0.167515   0.255499         0.006981  0.005647  0.176317   \n",
       "2         0.029144  0.269578   0.016753         0.006104  0.005864  0.246033   \n",
       "\n",
       "   comment_count              created_time                                id  \\\n",
       "0              0  2023-06-02T16:06:59+0000   722477749883613_788168749338745   \n",
       "1              1  2023-06-02T16:21:43+0000  722477749883613_1593974021087773   \n",
       "2              0  2023-06-02T17:29:58+0000   722477749883613_779062990381463   \n",
       "\n",
       "   like_count                                            message  \\\n",
       "0           0  Faux, ce ne sera jamais le temps pour lui car ...   \n",
       "1           1  Mon dieu!! On nous prend sérieusement pour des...   \n",
       "2           0  Denise Morais ..Oui et avec raison ! (Car \"nou...   \n",
       "\n",
       "                             parent                           postId  \n",
       "0                               NaN  192978590727638_722477749883613  \n",
       "1                               NaN  192978590727638_722477749883613  \n",
       "2  722477749883613_1593974021087773  192978590727638_722477749883613  "
      ]
     },
     "execution_count": 4,
     "metadata": {},
     "output_type": "execute_result"
    }
   ],
   "source": [
    "comments.head(3)"
   ]
  },
  {
   "cell_type": "code",
   "execution_count": 22,
   "metadata": {},
   "outputs": [
    {
     "name": "stdout",
     "output_type": "stream",
     "text": [
      "Question 1 : (935698, 13)\n",
      "Question 2 : 6\n"
     ]
    }
   ],
   "source": [
    "# ====== Questionnaire sur le données ====== #\n",
    "\n",
    "# Question 1\n",
    "print(f'Question 1 : {comments.shape}')\n",
    "\n",
    "# Question 2\n",
    "reponse2 = len(comments[comments['postId'] == '192978590727638_722477749883613'])\n",
    "print(f'Question 2 : {reponse2}')"
   ]
  },
  {
   "cell_type": "code",
   "execution_count": 12,
   "metadata": {},
   "outputs": [
    {
     "data": {
      "text/plain": [
       "array([[<Axes: title={'center': 'like_count'}>]], dtype=object)"
      ]
     },
     "execution_count": 12,
     "metadata": {},
     "output_type": "execute_result"
    },
    {
     "data": {
      "image/png": "[encoded data removed]",
      "text/plain": [
       "<Figure size 640x480 with 1 Axes>"
      ]
     },
     "metadata": {},
     "output_type": "display_data"
    }
   ],
   "source": [
    "# Question 3\n",
    "print(comments['like_count'].describe())\n",
    "comments.hist(column='like_count', bins=100)"
   ]
  },
  {
   "cell_type": "code",
   "execution_count": 69,
   "metadata": {},
   "outputs": [
    {
     "name": "stdout",
     "output_type": "stream",
     "text": [
      "Question 4 : 18195\n"
     ]
    }
   ],
   "source": [
    "# Question 4\n",
    "reponse4 = len(comments[(comments['INSULT']>=0.6)&(comments['SEVERE_TOXICITY']<=0.5)])\n",
    "print(f'Question 4 : {reponse4}')"
   ]
  },
  {
   "cell_type": "code",
   "execution_count": 41,
   "metadata": {},
   "outputs": [
    {
     "name": "stdout",
     "output_type": "stream",
     "text": [
      "Question 4 : 0\n",
      "[0, 0, 0, 0, 0, 0, 0, 0, 0, 0, 0, 459661, 0]\n",
      "{'IDENTITY_ATTACK': 0, 'INSULT': 0, 'PROFANITY': 0, 'SEVERE_TOXICITY': 0, 'THREAT': 0, 'TOXICITY': 0, 'comment_count': 0, 'created_time': 0, 'id': 0, 'like_count': 0, 'message': 0, 'parent': 459661, 'postId': 0}\n",
      "Question 5 : parent\n"
     ]
    }
   ],
   "source": [
    "# Question 5\n",
    "na_list = [comments[col].isna().sum() for col in comments.columns]\n",
    "print(na_list)\n",
    "\n",
    "na_dict = {col: comments[col].isna().sum() for col in comments.columns}\n",
    "print(na_dict)\n",
    "print(f'Question 5 : parent')\n",
    "\n",
    "\n"
   ]
  },
  {
   "cell_type": "code",
   "execution_count": 55,
   "metadata": {},
   "outputs": [
    {
     "name": "stdout",
     "output_type": "stream",
     "text": [
      "Question 6 : 16902\n"
     ]
    }
   ],
   "source": [
    "# Question 6\n",
    "# df = comments.copy()\n",
    "comments['created_time_convert'] = pd.to_datetime(comments['created_time'])\n",
    "comments['created_time_year'] = comments['created_time_convert'].dt.year\n",
    "comments['created_time_month'] = comments['created_time_convert'].dt.month\n",
    "\n",
    "reponse6 = len(comments[(comments['created_time_year']==2023) & (comments['created_time_month']==1)])\n",
    "print(f'Question 6 : {reponse6}')\n",
    "\n",
    "# Question 7\n",
    "# https://developers.perspectiveapi.com/s/about-the-api-attributes-and-languages?language=en_US"
   ]
  }
 ],
 "metadata": {
  "kernelspec": {
   "display_name": "base",
   "language": "python",
   "name": "python3"
  },
  "language_info": {
   "codemirror_mode": {
    "name": "ipython",
    "version": 3
   },
   "file_extension": ".py",
   "mimetype": "text/x-python",
   "name": "python",
   "nbconvert_exporter": "python",
   "pygments_lexer": "ipython3",
   "version": "3.10.11"
  }
 },
 "nbformat": 4,
 "nbformat_minor": 2
}
