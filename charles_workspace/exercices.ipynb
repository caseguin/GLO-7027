{
 "cells": [
  {
   "cell_type": "markdown",
   "metadata": {},
   "source": [
    "***\n",
    "## Exercice Module 5\n",
    "***"
   ]
  },
  {
   "cell_type": "code",
   "execution_count": 8,
   "metadata": {},
   "outputs": [],
   "source": [
    "import pandas as pd\n",
    "from apyori import apriori"
   ]
  },
  {
   "cell_type": "code",
   "execution_count": 19,
   "metadata": {},
   "outputs": [
    {
     "data": {
      "text/plain": [
       "[RelationRecord(items=frozenset({'burger'}), support=0.6, ordered_statistics=[OrderedStatistic(items_base=frozenset(), items_add=frozenset({'burger'}), confidence=0.6, lift=1.0)]),\n",
       " RelationRecord(items=frozenset({'coke'}), support=0.4, ordered_statistics=[OrderedStatistic(items_base=frozenset(), items_add=frozenset({'coke'}), confidence=0.4, lift=1.0)]),\n",
       " RelationRecord(items=frozenset({'frites'}), support=0.6, ordered_statistics=[OrderedStatistic(items_base=frozenset(), items_add=frozenset({'frites'}), confidence=0.6, lift=1.0)]),\n",
       " RelationRecord(items=frozenset({'limonade'}), support=0.6, ordered_statistics=[OrderedStatistic(items_base=frozenset(), items_add=frozenset({'limonade'}), confidence=0.6, lift=1.0)]),\n",
       " RelationRecord(items=frozenset({'pizza'}), support=0.4, ordered_statistics=[OrderedStatistic(items_base=frozenset(), items_add=frozenset({'pizza'}), confidence=0.4, lift=1.0)]),\n",
       " RelationRecord(items=frozenset({'burger', 'coke'}), support=0.4, ordered_statistics=[OrderedStatistic(items_base=frozenset(), items_add=frozenset({'burger', 'coke'}), confidence=0.4, lift=1.0), OrderedStatistic(items_base=frozenset({'burger'}), items_add=frozenset({'coke'}), confidence=0.6666666666666667, lift=1.6666666666666667), OrderedStatistic(items_base=frozenset({'coke'}), items_add=frozenset({'burger'}), confidence=1.0, lift=1.6666666666666667)]),\n",
       " RelationRecord(items=frozenset({'burger', 'frites'}), support=0.6, ordered_statistics=[OrderedStatistic(items_base=frozenset(), items_add=frozenset({'burger', 'frites'}), confidence=0.6, lift=1.0), OrderedStatistic(items_base=frozenset({'burger'}), items_add=frozenset({'frites'}), confidence=1.0, lift=1.6666666666666667), OrderedStatistic(items_base=frozenset({'frites'}), items_add=frozenset({'burger'}), confidence=1.0, lift=1.6666666666666667)]),\n",
       " RelationRecord(items=frozenset({'frites', 'coke'}), support=0.4, ordered_statistics=[OrderedStatistic(items_base=frozenset(), items_add=frozenset({'frites', 'coke'}), confidence=0.4, lift=1.0), OrderedStatistic(items_base=frozenset({'coke'}), items_add=frozenset({'frites'}), confidence=1.0, lift=1.6666666666666667), OrderedStatistic(items_base=frozenset({'frites'}), items_add=frozenset({'coke'}), confidence=0.6666666666666667, lift=1.6666666666666667)]),\n",
       " RelationRecord(items=frozenset({'pizza', 'limonade'}), support=0.4, ordered_statistics=[OrderedStatistic(items_base=frozenset(), items_add=frozenset({'pizza', 'limonade'}), confidence=0.4, lift=1.0), OrderedStatistic(items_base=frozenset({'limonade'}), items_add=frozenset({'pizza'}), confidence=0.6666666666666667, lift=1.6666666666666667), OrderedStatistic(items_base=frozenset({'pizza'}), items_add=frozenset({'limonade'}), confidence=1.0, lift=1.6666666666666667)]),\n",
       " RelationRecord(items=frozenset({'burger', 'frites', 'coke'}), support=0.4, ordered_statistics=[OrderedStatistic(items_base=frozenset(), items_add=frozenset({'burger', 'frites', 'coke'}), confidence=0.4, lift=1.0), OrderedStatistic(items_base=frozenset({'burger'}), items_add=frozenset({'frites', 'coke'}), confidence=0.6666666666666667, lift=1.6666666666666667), OrderedStatistic(items_base=frozenset({'coke'}), items_add=frozenset({'burger', 'frites'}), confidence=1.0, lift=1.6666666666666667), OrderedStatistic(items_base=frozenset({'frites'}), items_add=frozenset({'burger', 'coke'}), confidence=0.6666666666666667, lift=1.6666666666666667), OrderedStatistic(items_base=frozenset({'burger', 'coke'}), items_add=frozenset({'frites'}), confidence=1.0, lift=1.6666666666666667), OrderedStatistic(items_base=frozenset({'burger', 'frites'}), items_add=frozenset({'coke'}), confidence=0.6666666666666667, lift=1.6666666666666667), OrderedStatistic(items_base=frozenset({'frites', 'coke'}), items_add=frozenset({'burger'}), confidence=1.0, lift=1.6666666666666667)])]"
      ]
     },
     "execution_count": 19,
     "metadata": {},
     "output_type": "execute_result"
    }
   ],
   "source": [
    "observations = [['burger', 'frites', 'coke'], \n",
    "                ['burger', 'frites'],\n",
    "                ['pizza',' hotdog', 'limonade'], \n",
    "                ['burger', 'frites', 'coke', 'limonade'],\n",
    "                ['pizza', 'limonade']]\n",
    "\n",
    "observations = apriori(observations, min_support = 0.35)\n",
    "observations = list(observations)\n",
    "observations"
   ]
  },
  {
   "cell_type": "code",
   "execution_count": 23,
   "metadata": {},
   "outputs": [
    {
     "name": "stdout",
     "output_type": "stream",
     "text": [
      "Imbalance Ratio : 4.0\n"
     ]
    }
   ],
   "source": [
    "import pandas as pd\n",
    "\n",
    "# Vos données\n",
    "observations = [['burger', 'frites', 'coke'],\n",
    "                ['burger', 'frites'],\n",
    "                ['pizza', 'hotdog', 'limonade'],\n",
    "                ['burger', 'frites', 'coke', 'limonade'],\n",
    "                ['pizza', 'limonade']]\n",
    "\n",
    "# Créer un DataFrame à partir de vos données\n",
    "df = pd.DataFrame(observations)\n",
    "\n",
    "# Règle d'association spécifique\n",
    "association_rule = ['pizza', 'limonade', 'hotdog']\n",
    "\n",
    "# Identifier les transactions qui satisfont la règle d'association\n",
    "rule_transactions = df[df.apply(lambda row: all(item in row.values for item in association_rule), axis=1)]\n",
    "\n",
    "# Nombre d'échantillons de la classe positive (minority class)\n",
    "positive_class = len(rule_transactions)\n",
    "\n",
    "# Nombre d'échantillons de la classe négative (majority class)\n",
    "negative_class = len(df) - positive_class\n",
    "\n",
    "# Calcul de l'Imbalance Ratio\n",
    "imbalance_ratio = negative_class / positive_class\n",
    "\n",
    "print(\"Imbalance Ratio :\", imbalance_ratio)\n"
   ]
  }
 ],
 "metadata": {
  "kernelspec": {
   "display_name": "Python 3",
   "language": "python",
   "name": "python3"
  },
  "language_info": {
   "codemirror_mode": {
    "name": "ipython",
    "version": 3
   },
   "file_extension": ".py",
   "mimetype": "text/x-python",
   "name": "python",
   "nbconvert_exporter": "python",
   "pygments_lexer": "ipython3",
   "version": "3.10.11"
  }
 },
 "nbformat": 4,
 "nbformat_minor": 2
}
