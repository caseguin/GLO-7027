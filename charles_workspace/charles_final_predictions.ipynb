{
 "cells": [
  {
   "cell_type": "markdown",
   "metadata": {},
   "source": [
    "***\n",
    "# Modele de prédiction\n",
    "***"
   ]
  },
  {
   "cell_type": "code",
   "execution_count": 5,
   "metadata": {},
   "outputs": [],
   "source": [
    "# ====== Importer les library ====== #\n",
    "import pandas as pd\n",
    "import numpy as np\n",
    "\n",
    "pd.set_option('display.max_columns', None)"
   ]
  },
  {
   "cell_type": "code",
   "execution_count": 12,
   "metadata": {},
   "outputs": [],
   "source": [
    "# ====== Déterminer les path ====== #\n",
    "import os\n",
    "cwd = os.getcwd()\n",
    "parent = os.path.dirname(cwd)\n",
    "data_path = parent + '\\\\data\\\\'\n",
    "df_path = cwd + '\\\\dataframe\\\\'"
   ]
  },
  {
   "cell_type": "code",
   "execution_count": 13,
   "metadata": {},
   "outputs": [],
   "source": [
    "test = pd.read_csv(data_path + 'Test.csv')"
   ]
  },
  {
   "cell_type": "code",
   "execution_count": 6,
   "metadata": {},
   "outputs": [],
   "source": [
    "df_model = pd.read_hdf(df_path + 'df_model.h5')\n",
    "\n",
    "# independent values \n",
    "col_independent = []\n",
    "for col in df_model.columns.tolist():\n",
    "    if (col != 'comments_binary') & (col != 'comment_count'):\n",
    "        col_independent.append(col)\n",
    "\n",
    "if 'comments_binary' in df_model.columns.tolist():\n",
    "    col_dependent = 'comments_binary'\n",
    "else :\n",
    "    col_dependent = 'comment_count'"
   ]
  },
  {
   "cell_type": "code",
   "execution_count": 14,
   "metadata": {},
   "outputs": [
    {
     "data": {
      "text/html": [
       "<div>\n",
       "<style scoped>\n",
       "    .dataframe tbody tr th:only-of-type {\n",
       "        vertical-align: middle;\n",
       "    }\n",
       "\n",
       "    .dataframe tbody tr th {\n",
       "        vertical-align: top;\n",
       "    }\n",
       "\n",
       "    .dataframe thead th {\n",
       "        text-align: right;\n",
       "    }\n",
       "</style>\n",
       "<table border=\"1\" class=\"dataframe\">\n",
       "  <thead>\n",
       "    <tr style=\"text-align: right;\">\n",
       "      <th></th>\n",
       "      <th>IDENTITY_ATTACK</th>\n",
       "      <th>INSULT</th>\n",
       "      <th>PROFANITY</th>\n",
       "      <th>SEVERE_TOXICITY</th>\n",
       "      <th>THREAT</th>\n",
       "      <th>TOXICITY</th>\n",
       "      <th>comment_count</th>\n",
       "      <th>created_time</th>\n",
       "      <th>id</th>\n",
       "      <th>like_count</th>\n",
       "      <th>message</th>\n",
       "      <th>parent</th>\n",
       "      <th>postId</th>\n",
       "    </tr>\n",
       "  </thead>\n",
       "  <tbody>\n",
       "    <tr>\n",
       "      <th>0</th>\n",
       "      <td>0.000548</td>\n",
       "      <td>0.007893</td>\n",
       "      <td>0.011800</td>\n",
       "      <td>0.000517</td>\n",
       "      <td>0.005419</td>\n",
       "      <td>0.006754</td>\n",
       "      <td>-1</td>\n",
       "      <td>2023-06-01T18:32:37+0000</td>\n",
       "      <td>721844289946959_831368741921536</td>\n",
       "      <td>0</td>\n",
       "      <td>Mon ex🤔?</td>\n",
       "      <td>NaN</td>\n",
       "      <td>192978590727638_721844289946959</td>\n",
       "    </tr>\n",
       "    <tr>\n",
       "      <th>1</th>\n",
       "      <td>0.125566</td>\n",
       "      <td>0.469236</td>\n",
       "      <td>0.501357</td>\n",
       "      <td>0.169603</td>\n",
       "      <td>0.012389</td>\n",
       "      <td>0.434752</td>\n",
       "      <td>-1</td>\n",
       "      <td>2023-06-01T18:51:50+0000</td>\n",
       "      <td>721844289946959_9565562033514339</td>\n",
       "      <td>0</td>\n",
       "      <td>\"Quel est ton nom ?  Je te l' ordonne de le di...</td>\n",
       "      <td>NaN</td>\n",
       "      <td>192978590727638_721844289946959</td>\n",
       "    </tr>\n",
       "  </tbody>\n",
       "</table>\n",
       "</div>"
      ],
      "text/plain": [
       "   IDENTITY_ATTACK    INSULT  PROFANITY  SEVERE_TOXICITY    THREAT  TOXICITY  \\\n",
       "0         0.000548  0.007893   0.011800         0.000517  0.005419  0.006754   \n",
       "1         0.125566  0.469236   0.501357         0.169603  0.012389  0.434752   \n",
       "\n",
       "   comment_count              created_time                                id  \\\n",
       "0             -1  2023-06-01T18:32:37+0000   721844289946959_831368741921536   \n",
       "1             -1  2023-06-01T18:51:50+0000  721844289946959_9565562033514339   \n",
       "\n",
       "   like_count                                            message  parent  \\\n",
       "0           0                                           Mon ex🤔?     NaN   \n",
       "1           0  \"Quel est ton nom ?  Je te l' ordonne de le di...     NaN   \n",
       "\n",
       "                            postId  \n",
       "0  192978590727638_721844289946959  \n",
       "1  192978590727638_721844289946959  "
      ]
     },
     "execution_count": 14,
     "metadata": {},
     "output_type": "execute_result"
    }
   ],
   "source": [
    "test.head(2)"
   ]
  },
  {
   "cell_type": "code",
   "execution_count": 8,
   "metadata": {},
   "outputs": [],
   "source": [
    "from joblib import dump, load\n",
    "model = load('randomForest.joblib')\n",
    "\n",
    "X = df_model[col_independent]\n",
    "prediction = model.predict(X)"
   ]
  },
  {
   "cell_type": "code",
   "execution_count": 10,
   "metadata": {},
   "outputs": [
    {
     "name": "stdout",
     "output_type": "stream",
     "text": [
      "Predicted labels: [0 1 0 ... 0 0 0]\n"
     ]
    }
   ],
   "source": [
    "print(\"Predicted labels:\", prediction)"
   ]
  },
  {
   "cell_type": "code",
   "execution_count": 11,
   "metadata": {},
   "outputs": [
    {
     "data": {
      "text/plain": [
       "array([0, 1, 0, ..., 0, 0, 0])"
      ]
     },
     "execution_count": 11,
     "metadata": {},
     "output_type": "execute_result"
    }
   ],
   "source": [
    "prediction"
   ]
  }
 ],
 "metadata": {
  "kernelspec": {
   "display_name": "base",
   "language": "python",
   "name": "python3"
  },
  "language_info": {
   "codemirror_mode": {
    "name": "ipython",
    "version": 3
   },
   "file_extension": ".py",
   "mimetype": "text/x-python",
   "name": "python",
   "nbconvert_exporter": "python",
   "pygments_lexer": "ipython3",
   "version": "3.10.11"
  }
 },
 "nbformat": 4,
 "nbformat_minor": 2
}
