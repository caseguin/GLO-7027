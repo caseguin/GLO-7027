{
 "cells": [
  {
   "cell_type": "markdown",
   "metadata": {},
   "source": [
    "***\n",
    "# Détermination des sujets des posts\n",
    "***"
   ]
  },
  {
   "cell_type": "code",
   "execution_count": 7,
   "metadata": {},
   "outputs": [],
   "source": [
    "# ====== Importer les library ====== #\n",
    "import pandas as pd\n",
    "import numpy as np\n",
    "import concurrent.futures\n",
    "from transformers import pipeline\n",
    "\n",
    "pd.set_option('display.max_columns', None)"
   ]
  },
  {
   "cell_type": "code",
   "execution_count": 2,
   "metadata": {},
   "outputs": [],
   "source": [
    "# ====== Déterminer les path ====== #\n",
    "import os\n",
    "cwd = os.getcwd()\n",
    "parent = os.path.dirname(cwd)\n",
    "\n",
    "data_path = parent + '\\\\data\\\\'\n",
    "df_path = cwd + '\\\\dataframeTest\\\\'"
   ]
  },
  {
   "cell_type": "code",
   "execution_count": 3,
   "metadata": {},
   "outputs": [],
   "source": [
    "posts = pd.read_csv(data_path + 'Posts.csv')"
   ]
  },
  {
   "cell_type": "code",
   "execution_count": 4,
   "metadata": {},
   "outputs": [
    {
     "data": {
      "text/plain": [
       "37504"
      ]
     },
     "execution_count": 4,
     "metadata": {},
     "output_type": "execute_result"
    }
   ],
   "source": [
    "len(posts)"
   ]
  },
  {
   "cell_type": "code",
   "execution_count": 9,
   "metadata": {},
   "outputs": [],
   "source": [
    "def modiliserSujetDesArticles(titre_list, batch_size=10):\n",
    "    classifier = pipeline(model=\"facebook/bart-large-mnli\")\n",
    "    result_list = []\n",
    "\n",
    "    candidate_labels=[\n",
    "    \"Environnement\",\n",
    "    \"Politique\",\n",
    "    \"COVID\",\n",
    "    \"Technologie\",\n",
    "    \"Économie\",\n",
    "    \"Justice\",\n",
    "    \"Éducation\",\n",
    "    \"Santé\",\n",
    "    \"Sport\"\n",
    "    ]\n",
    "\n",
    "\n",
    "    # Process texts in batches\n",
    "    with concurrent.futures.ThreadPoolExecutor() as executor:\n",
    "\n",
    "        for i in range(0, len(titre_list), batch_size):\n",
    "            batch = titre_list[i:i + batch_size]\n",
    "            results = executor.map(classifier, batch, [candidate_labels]*len(batch))\n",
    "            for res in results:\n",
    "                try: \n",
    "                    final_result = max(zip(res['scores'], res['labels']))[1]\n",
    "                    result_list.append(final_result)\n",
    "                except Exception as e:\n",
    "                    print('KeyError:', e)\n",
    "                    print('result :', res )\n",
    "                    pass\n",
    "\n",
    "    return result_list"
   ]
  },
  {
   "cell_type": "code",
   "execution_count": 12,
   "metadata": {},
   "outputs": [
    {
     "name": "stdout",
     "output_type": "stream",
     "text": [
      "37504\n",
      "36015\n"
     ]
    }
   ],
   "source": [
    "print(len(posts))\n",
    "df = posts[['title']].drop_duplicates().dropna().reset_index(drop=True).copy()\n",
    "print(len(df))"
   ]
  },
  {
   "cell_type": "code",
   "execution_count": 13,
   "metadata": {},
   "outputs": [],
   "source": [
    "titre_list = df['title'].tolist()\n",
    "result_list = modiliserSujetDesArticles(titre_list)\n",
    "df['title_classify'] = result_list\n",
    "\n",
    "#568 "
   ]
  },
  {
   "cell_type": "code",
   "execution_count": null,
   "metadata": {},
   "outputs": [],
   "source": [
    "df.to_hdf(df_path + 'df_topics.h5', key='s')"
   ]
  }
 ],
 "metadata": {
  "kernelspec": {
   "display_name": "base",
   "language": "python",
   "name": "python3"
  },
  "language_info": {
   "codemirror_mode": {
    "name": "ipython",
    "version": 3
   },
   "file_extension": ".py",
   "mimetype": "text/x-python",
   "name": "python",
   "nbconvert_exporter": "python",
   "pygments_lexer": "ipython3",
   "version": "3.10.11"
  }
 },
 "nbformat": 4,
 "nbformat_minor": 2
}
