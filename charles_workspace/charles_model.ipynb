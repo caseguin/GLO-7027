{
 "cells": [
  {
   "cell_type": "markdown",
   "metadata": {},
   "source": [
    "***\n",
    "# Modele de prédiction\n",
    "***"
   ]
  },
  {
   "cell_type": "code",
   "execution_count": 25,
   "metadata": {},
   "outputs": [],
   "source": [
    "# ====== Importer les library ====== #\n",
    "import pandas as pd\n",
    "import numpy as np\n",
    "import matplotlib.pyplot as plt\n",
    "import time\n",
    "\n",
    "from sklearn.metrics import accuracy_score\n",
    "from sklearn.metrics import precision_score\n",
    "from sklearn.metrics import recall_score\n",
    "from sklearn.metrics import f1_score\n",
    "from sklearn.model_selection import train_test_split\n",
    "from sklearn.inspection import permutation_importance\n",
    "from sklearn.metrics import confusion_matrix, ConfusionMatrixDisplay\n",
    "from sklearn.preprocessing import StandardScaler\n",
    "\n",
    "pd.set_option('display.max_columns', None)"
   ]
  },
  {
   "cell_type": "code",
   "execution_count": 3,
   "metadata": {},
   "outputs": [],
   "source": [
    "# ====== Déterminer les path ====== #\n",
    "import os\n",
    "cwd = os.getcwd()\n",
    "\n",
    "df_path = cwd + '\\\\dataframe\\\\'"
   ]
  },
  {
   "cell_type": "code",
   "execution_count": 63,
   "metadata": {},
   "outputs": [
    {
     "data": {
      "text/html": [
       "<div>\n",
       "<style scoped>\n",
       "    .dataframe tbody tr th:only-of-type {\n",
       "        vertical-align: middle;\n",
       "    }\n",
       "\n",
       "    .dataframe tbody tr th {\n",
       "        vertical-align: top;\n",
       "    }\n",
       "\n",
       "    .dataframe thead th {\n",
       "        text-align: right;\n",
       "    }\n",
       "</style>\n",
       "<table border=\"1\" class=\"dataframe\">\n",
       "  <thead>\n",
       "    <tr style=\"text-align: right;\">\n",
       "      <th></th>\n",
       "      <th>IDENTITY_ATTACK</th>\n",
       "      <th>INSULT</th>\n",
       "      <th>PROFANITY</th>\n",
       "      <th>SEVERE_TOXICITY</th>\n",
       "      <th>THREAT</th>\n",
       "      <th>TOXICITY</th>\n",
       "      <th>comment_count</th>\n",
       "      <th>like_count</th>\n",
       "      <th>message_comments</th>\n",
       "      <th>mainTopic</th>\n",
       "      <th>message_posts</th>\n",
       "      <th>secondTopic</th>\n",
       "      <th>shares</th>\n",
       "      <th>title</th>\n",
       "      <th>time_difference</th>\n",
       "      <th>year</th>\n",
       "      <th>month</th>\n",
       "      <th>weekday</th>\n",
       "      <th>IDENTITY_ATTACK_cube</th>\n",
       "      <th>INSULT_cube</th>\n",
       "      <th>PROFANITY_cube</th>\n",
       "      <th>SEVERE_TOXICITY_cube</th>\n",
       "      <th>THREAT_cube</th>\n",
       "      <th>TOXICITY_cube</th>\n",
       "      <th>comment_count_cube</th>\n",
       "      <th>like_count_cube</th>\n",
       "      <th>shares_cube</th>\n",
       "      <th>messages_clean</th>\n",
       "      <th>emojis</th>\n",
       "      <th>emojis_text</th>\n",
       "      <th>positive</th>\n",
       "      <th>neutral</th>\n",
       "      <th>negative</th>\n",
       "      <th>emoji_count</th>\n",
       "    </tr>\n",
       "  </thead>\n",
       "  <tbody>\n",
       "    <tr>\n",
       "      <th>0</th>\n",
       "      <td>0.102216</td>\n",
       "      <td>0.651296</td>\n",
       "      <td>0.664565</td>\n",
       "      <td>0.350583</td>\n",
       "      <td>0.029933</td>\n",
       "      <td>0.588517</td>\n",
       "      <td>0</td>\n",
       "      <td>0</td>\n",
       "      <td>Faux, ce ne sera jamais le temps pour lui car ...</td>\n",
       "      <td>composer-preview</td>\n",
       "      <td>HÉLÈNE BUZZETTI / Jagmeet Singh a soutenu que ...</td>\n",
       "      <td>7FJ4TUHKEFEXFIZI6DY2WAQE4E</td>\n",
       "      <td>0</td>\n",
       "      <td>Les incohérences de l’ingérence</td>\n",
       "      <td>3.0</td>\n",
       "      <td>2023</td>\n",
       "      <td>6</td>\n",
       "      <td>4</td>\n",
       "      <td>0.467562</td>\n",
       "      <td>0.866814</td>\n",
       "      <td>0.872661</td>\n",
       "      <td>0.705121</td>\n",
       "      <td>0.310492</td>\n",
       "      <td>0.838017</td>\n",
       "      <td>0.0</td>\n",
       "      <td>0.0</td>\n",
       "      <td>0.0</td>\n",
       "      <td>Faux jamais temps réélu parti crève faim Jamai...</td>\n",
       "      <td>[]</td>\n",
       "      <td>[]</td>\n",
       "      <td>0.077610</td>\n",
       "      <td>0.130838</td>\n",
       "      <td>0.791552</td>\n",
       "      <td>0</td>\n",
       "    </tr>\n",
       "    <tr>\n",
       "      <th>1</th>\n",
       "      <td>0.005476</td>\n",
       "      <td>0.167515</td>\n",
       "      <td>0.255499</td>\n",
       "      <td>0.006981</td>\n",
       "      <td>0.005647</td>\n",
       "      <td>0.176317</td>\n",
       "      <td>1</td>\n",
       "      <td>1</td>\n",
       "      <td>Mon dieu!! On nous prend sérieusement pour des...</td>\n",
       "      <td>composer-preview</td>\n",
       "      <td>HÉLÈNE BUZZETTI / Jagmeet Singh a soutenu que ...</td>\n",
       "      <td>7FJ4TUHKEFEXFIZI6DY2WAQE4E</td>\n",
       "      <td>0</td>\n",
       "      <td>Les incohérences de l’ingérence</td>\n",
       "      <td>18.0</td>\n",
       "      <td>2023</td>\n",
       "      <td>6</td>\n",
       "      <td>4</td>\n",
       "      <td>0.176257</td>\n",
       "      <td>0.551253</td>\n",
       "      <td>0.634546</td>\n",
       "      <td>0.191119</td>\n",
       "      <td>0.178081</td>\n",
       "      <td>0.560745</td>\n",
       "      <td>1.0</td>\n",
       "      <td>1.0</td>\n",
       "      <td>0.0</td>\n",
       "      <td>dieu prend sérieusement idiots</td>\n",
       "      <td>[😅]</td>\n",
       "      <td>[grinning_face_with_sweat]</td>\n",
       "      <td>0.697028</td>\n",
       "      <td>0.047872</td>\n",
       "      <td>0.255100</td>\n",
       "      <td>1</td>\n",
       "    </tr>\n",
       "  </tbody>\n",
       "</table>\n",
       "</div>"
      ],
      "text/plain": [
       "   IDENTITY_ATTACK    INSULT  PROFANITY  SEVERE_TOXICITY    THREAT  TOXICITY  \\\n",
       "0         0.102216  0.651296   0.664565         0.350583  0.029933  0.588517   \n",
       "1         0.005476  0.167515   0.255499         0.006981  0.005647  0.176317   \n",
       "\n",
       "   comment_count  like_count  \\\n",
       "0              0           0   \n",
       "1              1           1   \n",
       "\n",
       "                                    message_comments         mainTopic  \\\n",
       "0  Faux, ce ne sera jamais le temps pour lui car ...  composer-preview   \n",
       "1  Mon dieu!! On nous prend sérieusement pour des...  composer-preview   \n",
       "\n",
       "                                       message_posts  \\\n",
       "0  HÉLÈNE BUZZETTI / Jagmeet Singh a soutenu que ...   \n",
       "1  HÉLÈNE BUZZETTI / Jagmeet Singh a soutenu que ...   \n",
       "\n",
       "                  secondTopic  shares                            title  \\\n",
       "0  7FJ4TUHKEFEXFIZI6DY2WAQE4E       0  Les incohérences de l’ingérence   \n",
       "1  7FJ4TUHKEFEXFIZI6DY2WAQE4E       0  Les incohérences de l’ingérence   \n",
       "\n",
       "   time_difference  year  month  weekday  IDENTITY_ATTACK_cube  INSULT_cube  \\\n",
       "0              3.0  2023      6        4              0.467562     0.866814   \n",
       "1             18.0  2023      6        4              0.176257     0.551253   \n",
       "\n",
       "   PROFANITY_cube  SEVERE_TOXICITY_cube  THREAT_cube  TOXICITY_cube  \\\n",
       "0        0.872661              0.705121     0.310492       0.838017   \n",
       "1        0.634546              0.191119     0.178081       0.560745   \n",
       "\n",
       "   comment_count_cube  like_count_cube  shares_cube  \\\n",
       "0                 0.0              0.0          0.0   \n",
       "1                 1.0              1.0          0.0   \n",
       "\n",
       "                                      messages_clean emojis  \\\n",
       "0  Faux jamais temps réélu parti crève faim Jamai...     []   \n",
       "1                     dieu prend sérieusement idiots    [😅]   \n",
       "\n",
       "                  emojis_text  positive   neutral  negative  emoji_count  \n",
       "0                          []  0.077610  0.130838  0.791552            0  \n",
       "1  [grinning_face_with_sweat]  0.697028  0.047872  0.255100            1  "
      ]
     },
     "execution_count": 63,
     "metadata": {},
     "output_type": "execute_result"
    }
   ],
   "source": [
    "# ====== Importer les df ====== #\n",
    "df = pd.read_hdf(df_path + 'df_merge.h5')\n",
    "\n",
    "df.head(2)"
   ]
  },
  {
   "cell_type": "code",
   "execution_count": 71,
   "metadata": {},
   "outputs": [
    {
     "data": {
      "text/html": [
       "<div>\n",
       "<style scoped>\n",
       "    .dataframe tbody tr th:only-of-type {\n",
       "        vertical-align: middle;\n",
       "    }\n",
       "\n",
       "    .dataframe tbody tr th {\n",
       "        vertical-align: top;\n",
       "    }\n",
       "\n",
       "    .dataframe thead th {\n",
       "        text-align: right;\n",
       "    }\n",
       "</style>\n",
       "<table border=\"1\" class=\"dataframe\">\n",
       "  <thead>\n",
       "    <tr style=\"text-align: right;\">\n",
       "      <th></th>\n",
       "      <th>IDENTITY_ATTACK</th>\n",
       "      <th>INSULT</th>\n",
       "      <th>PROFANITY</th>\n",
       "      <th>SEVERE_TOXICITY</th>\n",
       "      <th>THREAT</th>\n",
       "      <th>TOXICITY</th>\n",
       "      <th>like_count</th>\n",
       "      <th>comments_binary</th>\n",
       "    </tr>\n",
       "  </thead>\n",
       "  <tbody>\n",
       "    <tr>\n",
       "      <th>0</th>\n",
       "      <td>0.102216</td>\n",
       "      <td>0.651296</td>\n",
       "      <td>0.664565</td>\n",
       "      <td>0.350583</td>\n",
       "      <td>0.029933</td>\n",
       "      <td>0.588517</td>\n",
       "      <td>0</td>\n",
       "      <td>0</td>\n",
       "    </tr>\n",
       "    <tr>\n",
       "      <th>1</th>\n",
       "      <td>0.005476</td>\n",
       "      <td>0.167515</td>\n",
       "      <td>0.255499</td>\n",
       "      <td>0.006981</td>\n",
       "      <td>0.005647</td>\n",
       "      <td>0.176317</td>\n",
       "      <td>1</td>\n",
       "      <td>1</td>\n",
       "    </tr>\n",
       "    <tr>\n",
       "      <th>2</th>\n",
       "      <td>0.029144</td>\n",
       "      <td>0.269578</td>\n",
       "      <td>0.016753</td>\n",
       "      <td>0.006104</td>\n",
       "      <td>0.005864</td>\n",
       "      <td>0.246033</td>\n",
       "      <td>0</td>\n",
       "      <td>0</td>\n",
       "    </tr>\n",
       "    <tr>\n",
       "      <th>3</th>\n",
       "      <td>0.036105</td>\n",
       "      <td>0.402434</td>\n",
       "      <td>0.479813</td>\n",
       "      <td>0.023411</td>\n",
       "      <td>0.008220</td>\n",
       "      <td>0.372227</td>\n",
       "      <td>0</td>\n",
       "      <td>0</td>\n",
       "    </tr>\n",
       "    <tr>\n",
       "      <th>4</th>\n",
       "      <td>0.280349</td>\n",
       "      <td>0.520819</td>\n",
       "      <td>0.163573</td>\n",
       "      <td>0.169603</td>\n",
       "      <td>0.008790</td>\n",
       "      <td>0.439655</td>\n",
       "      <td>0</td>\n",
       "      <td>0</td>\n",
       "    </tr>\n",
       "  </tbody>\n",
       "</table>\n",
       "</div>"
      ],
      "text/plain": [
       "   IDENTITY_ATTACK    INSULT  PROFANITY  SEVERE_TOXICITY    THREAT  TOXICITY  \\\n",
       "0         0.102216  0.651296   0.664565         0.350583  0.029933  0.588517   \n",
       "1         0.005476  0.167515   0.255499         0.006981  0.005647  0.176317   \n",
       "2         0.029144  0.269578   0.016753         0.006104  0.005864  0.246033   \n",
       "3         0.036105  0.402434   0.479813         0.023411  0.008220  0.372227   \n",
       "4         0.280349  0.520819   0.163573         0.169603  0.008790  0.439655   \n",
       "\n",
       "   like_count  comments_binary  \n",
       "0           0                0  \n",
       "1           1                1  \n",
       "2           0                0  \n",
       "3           0                0  \n",
       "4           0                0  "
      ]
     },
     "execution_count": 71,
     "metadata": {},
     "output_type": "execute_result"
    }
   ],
   "source": [
    "df_model = df.copy()\n",
    "# df_model['parent_binary'] = np.where(df_model['parent'].isna(), 0, 1)\n",
    "df_model['comments_binary'] = np.where(df_model['comment_count']==0, 0, 1)\n",
    "\n",
    "# ======= Baseline ======= #  \n",
    "# col_to_keep = ['IDENTITY_ATTACK', 'INSULT', 'PROFANITY', 'SEVERE_TOXICITY', 'THREAT', 'TOXICITY', 'like_count', 'shares', 'comments_binary']\n",
    "col_to_keep = ['IDENTITY_ATTACK', 'INSULT', 'PROFANITY', 'SEVERE_TOXICITY', 'THREAT', 'TOXICITY', 'like_count', 'comments_binary']\n",
    "\n",
    "\n",
    "# ======= Baseline + Info supplémentaire ======= #\n",
    "# col_to_keep = ['IDENTITY_ATTACK', 'INSULT', 'PROFANITY', 'SEVERE_TOXICITY', 'THREAT', 'TOXICITY', 'like_count', 'shares', 'time_difference', 'year', 'month', 'weekday', 'year', 'month', 'weekday', 'positive', 'negative', 'emoji_count', 'comments_binary']\n",
    "\n",
    "# ======= Baseline + Info supplémentaire + standardisation ======= #\n",
    "# col_to_keep = ['IDENTITY_ATTACK', 'INSULT', 'PROFANITY', 'SEVERE_TOXICITY', 'THREAT', 'TOXICITY', 'like_count', 'shares', 'time_difference', 'year', 'month', 'weekday', 'year', 'month', 'weekday', 'positive', 'negative', 'emoji_count', 'comments_binary']\n",
    "# df_model[['like_count', 'shares', 'time_difference']] = StandardScaler().fit_transform(df_model[['like_count', 'shares', 'time_difference']])\n",
    "\n",
    "# ======= Baseline + Info supplémentaire + encode time ======= #\n",
    "# col_to_keep = ['IDENTITY_ATTACK', 'INSULT', 'PROFANITY', 'SEVERE_TOXICITY', 'THREAT', 'TOXICITY', 'like_count', 'shares', 'time_difference', 'year', 'month', 'weekday', 'year', 'month', 'weekday', 'positive', 'negative', 'emoji_count', 'comments_binary']\n",
    "\n",
    "# ======= Transformation score perspective ======= #\n",
    "# col_to_keep = ['IDENTITY_ATTACK_cube', 'INSULT_cube', 'PROFANITY_cube', 'SEVERE_TOXICITY_cube', 'THREAT_cube', 'TOXICITY_cube', 'like_count_cube', 'shares_cube', 'time_difference', 'comments_binary']\n",
    "\n",
    "\n",
    "# col_to_keep = ['IDENTITY_ATTACK_cube', 'INSULT_cube', 'PROFANITY_cube', 'SEVERE_TOXICITY_cube', 'THREAT_cube', 'TOXICITY_cube', 'like_count_cube', 'shares_cube', 'time_difference', 'year', 'month', 'weekday', 'comments_binary']\n",
    "# col_to_keep = ['IDENTITY_ATTACK_cube', 'INSULT_cube', 'PROFANITY_cube', 'SEVERE_TOXICITY_cube', 'THREAT_cube', 'TOXICITY_cube', 'like_count_cube', 'shares_cube', 'time_difference', 'year', 'month', 'weekday', 'comment_count']\n",
    "\n",
    "\n",
    "df_model = df_model[col_to_keep]\n",
    "\n",
    "\n",
    "# independent values \n",
    "col_independent = []\n",
    "for col in df_model.columns.tolist():\n",
    "    if col != 'comments_binary':\n",
    "        col_independent.append(col)\n",
    "\n",
    "df_model.head()"
   ]
  },
  {
   "cell_type": "code",
   "execution_count": 19,
   "metadata": {},
   "outputs": [
    {
     "data": {
      "text/html": [
       "<div>\n",
       "<style scoped>\n",
       "    .dataframe tbody tr th:only-of-type {\n",
       "        vertical-align: middle;\n",
       "    }\n",
       "\n",
       "    .dataframe tbody tr th {\n",
       "        vertical-align: top;\n",
       "    }\n",
       "\n",
       "    .dataframe thead th {\n",
       "        text-align: right;\n",
       "    }\n",
       "</style>\n",
       "<table border=\"1\" class=\"dataframe\">\n",
       "  <thead>\n",
       "    <tr style=\"text-align: right;\">\n",
       "      <th></th>\n",
       "      <th>IDENTITY_ATTACK_cube</th>\n",
       "      <th>INSULT_cube</th>\n",
       "      <th>PROFANITY_cube</th>\n",
       "      <th>SEVERE_TOXICITY_cube</th>\n",
       "      <th>THREAT_cube</th>\n",
       "      <th>TOXICITY_cube</th>\n",
       "      <th>like_count_cube</th>\n",
       "      <th>shares_cube</th>\n",
       "      <th>time_difference</th>\n",
       "      <th>year</th>\n",
       "      <th>month</th>\n",
       "      <th>weekday</th>\n",
       "      <th>comments_binary</th>\n",
       "    </tr>\n",
       "  </thead>\n",
       "  <tbody>\n",
       "    <tr>\n",
       "      <th>0</th>\n",
       "      <td>0.467562</td>\n",
       "      <td>0.866814</td>\n",
       "      <td>0.872661</td>\n",
       "      <td>0.705121</td>\n",
       "      <td>0.310492</td>\n",
       "      <td>0.838017</td>\n",
       "      <td>-0.683319</td>\n",
       "      <td>-1.183482</td>\n",
       "      <td>3.0</td>\n",
       "      <td>3.0</td>\n",
       "      <td>6</td>\n",
       "      <td>4</td>\n",
       "      <td>0</td>\n",
       "    </tr>\n",
       "    <tr>\n",
       "      <th>1</th>\n",
       "      <td>0.176257</td>\n",
       "      <td>0.551253</td>\n",
       "      <td>0.634546</td>\n",
       "      <td>0.191119</td>\n",
       "      <td>0.178081</td>\n",
       "      <td>0.560745</td>\n",
       "      <td>0.734104</td>\n",
       "      <td>-1.183482</td>\n",
       "      <td>18.0</td>\n",
       "      <td>3.0</td>\n",
       "      <td>6</td>\n",
       "      <td>4</td>\n",
       "      <td>1</td>\n",
       "    </tr>\n",
       "  </tbody>\n",
       "</table>\n",
       "</div>"
      ],
      "text/plain": [
       "   IDENTITY_ATTACK_cube  INSULT_cube  PROFANITY_cube  SEVERE_TOXICITY_cube  \\\n",
       "0              0.467562     0.866814        0.872661              0.705121   \n",
       "1              0.176257     0.551253        0.634546              0.191119   \n",
       "\n",
       "   THREAT_cube  TOXICITY_cube  like_count_cube  shares_cube  time_difference  \\\n",
       "0     0.310492       0.838017        -0.683319    -1.183482              3.0   \n",
       "1     0.178081       0.560745         0.734104    -1.183482             18.0   \n",
       "\n",
       "   year  month  weekday  comments_binary  \n",
       "0   3.0      6        4                0  \n",
       "1   3.0      6        4                1  "
      ]
     },
     "execution_count": 19,
     "metadata": {},
     "output_type": "execute_result"
    }
   ],
   "source": [
    "# Encode\n",
    "from sklearn.preprocessing import OrdinalEncoder\n",
    "\n",
    "# test = df_model.copy()\n",
    "ordinal_encoder = OrdinalEncoder()\n",
    "df_model['year'] = ordinal_encoder.fit_transform(df_model[['year']])\n",
    "df_model.head(2)"
   ]
  },
  {
   "cell_type": "code",
   "execution_count": 6,
   "metadata": {},
   "outputs": [],
   "source": [
    "# df_model = df_model.head(20000).copy()"
   ]
  },
  {
   "cell_type": "markdown",
   "metadata": {},
   "source": [
    "***\n",
    "### Fonction\n",
    "***"
   ]
  },
  {
   "cell_type": "code",
   "execution_count": 45,
   "metadata": {},
   "outputs": [],
   "source": [
    "def modelScore(y_test, y_prediction):\n",
    "    accuracy = accuracy_score(y_test, y_prediction)\n",
    "    print(f\"Accuracy: {accuracy:.2f}\")\n",
    "\n",
    "    precision = precision_score(y_test, y_prediction)\n",
    "    print(f\"Precision: {precision:.2f}\")\n",
    "\n",
    "    recall = recall_score(y_test, y_prediction)\n",
    "    print(f\"Recall: {recall:.2f}\")\n",
    "\n",
    "    f1 = f1_score(y_test, y_prediction)\n",
    "    print(f\"f1_score: {f1:.2f}\")\n",
    "\n",
    "\n",
    "def featureImportance(classifier, X_test, y_test):\n",
    "    feature_names = X_test.columns\n",
    "    imps = permutation_importance(classifier, X_test, y_test)\n",
    "    feature_importance_df = pd.DataFrame({'feature': feature_names, 'importance': imps.importances_mean})\n",
    "    feature_importance_df = feature_importance_df.sort_values('importance', ascending=False)\n",
    "    print(\"\\nFeature Importance:\\n\", feature_importance_df)\n",
    "    # https://scikit-learn.org/stable/modules/permutation_importance.html#permutation-importance\n",
    "\n",
    "\n",
    "def confusionMatricePlot(y_test, y_prediction):\n",
    "    cm = confusion_matrix(y_test, y_prediction)\n",
    "    disp = ConfusionMatrixDisplay(confusion_matrix=cm)\n",
    "    disp.plot()\n",
    "    plt.show()\n",
    "\n",
    "\n",
    "def durationTime(start_time, end_time):\n",
    "    duration = round((end_time - start_time) / 60, 2)\n",
    "    print(f'Running time : {duration} min')"
   ]
  },
  {
   "cell_type": "markdown",
   "metadata": {},
   "source": [
    "***\n",
    "### Logit\n",
    "***"
   ]
  },
  {
   "cell_type": "code",
   "execution_count": 55,
   "metadata": {},
   "outputs": [],
   "source": [
    "df_model.head(2)"
   ]
  },
  {
   "cell_type": "code",
   "execution_count": 49,
   "metadata": {},
   "outputs": [],
   "source": [
    "# https://www.statsmodels.org/stable/generated/statsmodels.discrete.discrete_model.Probit.html#statsmodels.discrete.discrete_model.Probit\n",
    "# https://scikit-learn.org/stable/modules/generated/sklearn.linear_model.LogisticRegression.html\n",
    "\n",
    "from sklearn.model_selection import train_test_split\n",
    "from sklearn.datasets import load_iris\n",
    "from sklearn.linear_model import LogisticRegression\n",
    "\n",
    "start_time = time.time()\n",
    "\n",
    "X = df_model[col_independent]\n",
    "y = df_model['comments_binary']\n",
    "\n",
    "X_train, X_test, y_train, y_test = train_test_split(X, y, random_state=104, test_size=0.25, shuffle=True) \n",
    "\n",
    "# X, y = load_iris(return_X_y=True)\n",
    "classifier = LogisticRegression(random_state=0).fit(X_train, y_train)\n",
    "\n",
    "y_prediction = classifier.predict(X_test)\n",
    "end_time = time.time()\n",
    "\n",
    "# Standardiser les valeurs"
   ]
  },
  {
   "cell_type": "code",
   "execution_count": 50,
   "metadata": {},
   "outputs": [
    {
     "name": "stdout",
     "output_type": "stream",
     "text": [
      "Accuracy: 0.88\n",
      "Precision: 0.67\n",
      "Recall: 0.09\n",
      "f1_score: 0.16\n",
      "Running time : 0.01 min\n"
     ]
    }
   ],
   "source": [
    "modelScore(y_test, y_prediction)\n",
    "durationTime(start_time, end_time)"
   ]
  },
  {
   "cell_type": "markdown",
   "metadata": {},
   "source": [
    "***\n",
    "### Binomial négative\n",
    "***"
   ]
  },
  {
   "cell_type": "code",
   "execution_count": 9,
   "metadata": {},
   "outputs": [
    {
     "name": "stderr",
     "output_type": "stream",
     "text": [
      "C:\\Users\\Charles_tour\\AppData\\Local\\Packages\\PythonSoftwareFoundation.Python.3.10_qbz5n2kfra8p0\\LocalCache\\local-packages\\Python310\\site-packages\\statsmodels\\genmod\\families\\family.py:1367: ValueWarning: Negative binomial dispersion parameter alpha not set. Using default value alpha=1.0.\n",
      "  warnings.warn(\"Negative binomial dispersion parameter alpha not \"\n"
     ]
    },
    {
     "name": "stdout",
     "output_type": "stream",
     "text": [
      "                 Generalized Linear Model Regression Results                  \n",
      "==============================================================================\n",
      "Dep. Variable:        comments_binary   No. Observations:                20000\n",
      "Model:                            GLM   Df Residuals:                    19986\n",
      "Model Family:        NegativeBinomial   Df Model:                           13\n",
      "Link Function:                    Log   Scale:                          1.0000\n",
      "Method:                          IRLS   Log-Likelihood:                -7531.4\n",
      "Date:                Mon, 01 Apr 2024   Deviance:                       8070.2\n",
      "Time:                        23:52:45   Pearson chi2:                 1.78e+04\n",
      "No. Iterations:                   100   Pseudo R-squ. (CS):            0.03590\n",
      "Covariance Type:            nonrobust                                         \n",
      "===================================================================================\n",
      "                      coef    std err          z      P>|z|      [0.025      0.975]\n",
      "-----------------------------------------------------------------------------------\n",
      "IDENTITY_ATTACK     3.2969      0.943      3.495      0.000       1.448       5.146\n",
      "INSULT              1.1760      1.011      1.163      0.245      -0.806       3.158\n",
      "PROFANITY          -0.6646      0.497     -1.338      0.181      -1.638       0.309\n",
      "SEVERE_TOXICITY    -2.2950      1.417     -1.620      0.105      -5.072       0.482\n",
      "THREAT              2.4988      1.102      2.268      0.023       0.340       4.658\n",
      "TOXICITY           -3.3361      1.296     -2.575      0.010      -5.875      -0.797\n",
      "like_count          0.0330      0.001     26.083      0.000       0.031       0.035\n",
      "shares             -0.0002      0.000     -1.819      0.069      -0.000    1.67e-05\n",
      "time_difference    -0.0003   2.05e-05    -14.733      0.000      -0.000      -0.000\n",
      "year               -0.0002   5.25e-05     -3.794      0.000      -0.000   -9.63e-05\n",
      "year               -0.0002   5.25e-05     -3.794      0.000      -0.000   -9.63e-05\n",
      "month              -0.0075      0.019     -0.393      0.695      -0.045       0.030\n",
      "month              -0.0075      0.019     -0.393      0.695      -0.045       0.030\n",
      "weekday            -0.0026      0.003     -0.909      0.363      -0.008       0.003\n",
      "weekday            -0.0026      0.003     -0.909      0.363      -0.008       0.003\n",
      "year               -0.0002   5.25e-05     -3.794      0.000      -0.000   -9.63e-05\n",
      "year               -0.0002   5.25e-05     -3.794      0.000      -0.000   -9.63e-05\n",
      "month              -0.0075      0.019     -0.393      0.695      -0.045       0.030\n",
      "month              -0.0075      0.019     -0.393      0.695      -0.045       0.030\n",
      "weekday            -0.0026      0.003     -0.909      0.363      -0.008       0.003\n",
      "weekday            -0.0026      0.003     -0.909      0.363      -0.008       0.003\n",
      "positive            0.2227      0.210      1.061      0.289      -0.189       0.634\n",
      "negative            0.1964      0.233      0.841      0.400      -0.261       0.654\n",
      "emoji_count              0          0        nan        nan           0           0\n",
      "===================================================================================\n"
     ]
    }
   ],
   "source": [
    "import statsmodels.api as sm\n",
    "# https://www.statsmodels.org/stable/generated/statsmodels.discrete.discrete_model.NegativeBinomial.html#statsmodels.discrete.discrete_model.NegativeBinomial\n",
    "# Fit the negative binomial regression model\n",
    "\n",
    "X = df_model[col_independent]\n",
    "y = df_model['comments_binary']\n",
    "\n",
    "\n",
    "model = sm.GLM(y, X, family=sm.families.NegativeBinomial())\n",
    "result = model.fit()\n",
    "\n",
    "# Print summary of the regression results\n",
    "print(result.summary())"
   ]
  },
  {
   "cell_type": "markdown",
   "metadata": {},
   "source": [
    "***\n",
    "### Random forest\n",
    "***"
   ]
  },
  {
   "cell_type": "code",
   "execution_count": 24,
   "metadata": {},
   "outputs": [
    {
     "name": "stdout",
     "output_type": "stream",
     "text": [
      "Best hyperparameters: {'n_estimators': 383, 'min_samples_split': 14, 'min_samples_leaf': 19, 'max_features': None, 'max_depth': 11}\n",
      "Test accuracy: 0.89\n"
     ]
    }
   ],
   "source": [
    "# Code pour optimiser les hyperparamètres\n",
    "from sklearn.ensemble import RandomForestClassifier\n",
    "from sklearn.model_selection import RandomizedSearchCV, train_test_split\n",
    "import numpy as np\n",
    "\n",
    "# X = df_model[col_to_keep]\n",
    "# y = df_model['comments_binary']\n",
    "\n",
    "# param_dist = {\n",
    "#     'n_estimators': np.random.randint(100, 500, 10),\n",
    "#     'max_depth': [None] + list(np.linspace(3, 20, 5).astype(int)),\n",
    "#     'min_samples_split': list(range(2, 21, 2)),\n",
    "#     'min_samples_leaf': list(range(1, 21, 2)),\n",
    "#     'max_features': ['sqrt', 'log2', None]\n",
    "# }\n",
    "\n",
    "# X_train, X_test, y_train, y_test = train_test_split(X, y, random_state=104, test_size=0.25, shuffle=True) \n",
    "\n",
    "# random_search = RandomizedSearchCV(\n",
    "#     RandomForestClassifier(),\n",
    "#     param_distributions=param_dist,\n",
    "#     n_iter=20,\n",
    "#     cv=5,\n",
    "#     scoring='accuracy',\n",
    "#     n_jobs=-1,\n",
    "#     random_state=42\n",
    "# )\n",
    "\n",
    "# random_search.fit(X_train, y_train)\n",
    "\n",
    "# print(\"Best hyperparameters:\", random_search.best_params_)\n",
    "\n",
    "# # Create a new Random Forest with the best hyperparameters\n",
    "# best_rf = random_search.best_estimator_\n",
    "\n",
    "# # Evaluate the best model on the test set\n",
    "# test_accuracy = best_rf.score(X_test, y_test)\n",
    "# print(f\"Test accuracy: {test_accuracy:.2f}\")\n"
   ]
  },
  {
   "cell_type": "code",
   "execution_count": 19,
   "metadata": {},
   "outputs": [],
   "source": [
    "# df_model = df_model.head(10000).copy()"
   ]
  },
  {
   "cell_type": "code",
   "execution_count": 52,
   "metadata": {},
   "outputs": [],
   "source": [
    "from sklearn.ensemble import RandomForestClassifier\n",
    "\n",
    "start_time = time.time()\n",
    "\n",
    "X = df_model[col_independent]\n",
    "y = df_model['comments_binary']\n",
    "\n",
    "X_train, X_test, y_train, y_test = train_test_split(X, y, random_state=104, test_size=0.25, shuffle=True) \n",
    "\n",
    "classifier = RandomForestClassifier(n_estimators=383, min_samples_split=14, min_samples_leaf=19, max_features=None, max_depth=11)\n",
    "classifier.fit(X_train, y_train)\n",
    "\n",
    "y_prediction = classifier.predict(X_test)\n",
    "\n",
    "end_time = time.time()"
   ]
  },
  {
   "cell_type": "code",
   "execution_count": 11,
   "metadata": {},
   "outputs": [],
   "source": [
    "# Test********\n",
    "\n",
    "# from concurrent.futures import ThreadPoolExecutor\n",
    "# import concurrent.futures\n",
    "\n",
    "# def train_model(X_train, y_train):\n",
    "#     classifier = RandomForestClassifier(n_estimators=383, min_samples_split=14, min_samples_leaf=19, max_features=None, max_depth=11)\n",
    "#     classifier.fit(X_train, y_train)\n",
    "#     return classifier\n",
    "\n",
    "# def predict(classifier, X_test):\n",
    "#     return classifier.predict(X_test)\n",
    "\n",
    "# with concurrent.futures.ThreadPoolExecutor(max_workers=8) as executor:\n",
    "#     X = df_model[col_independent]\n",
    "#     y = df_model['comments_binary']\n",
    "#     X_train, X_test, y_train, y_test = train_test_split(X, y, random_state=104, test_size=0.25, shuffle=True)\n",
    "\n",
    "#     train_future = executor.submit(train_model, X_train, y_train)\n",
    "#     classifier = train_future.result()\n",
    "\n",
    "#     predict_future = executor.submit(predict, classifier, X_test)\n",
    "#     y_prediction = predict_future.result()"
   ]
  },
  {
   "cell_type": "code",
   "execution_count": 53,
   "metadata": {},
   "outputs": [
    {
     "name": "stdout",
     "output_type": "stream",
     "text": [
      "Accuracy: 0.88\n",
      "Precision: 0.67\n",
      "Recall: 0.13\n",
      "f1_score: 0.22\n",
      "Running time : 11.84 min\n"
     ]
    }
   ],
   "source": [
    "modelScore(y_test, y_prediction)\n",
    "durationTime(start_time, end_time)"
   ]
  },
  {
   "cell_type": "code",
   "execution_count": 54,
   "metadata": {},
   "outputs": [
    {
     "name": "stdout",
     "output_type": "stream",
     "text": [
      "\n",
      "Feature Importance:\n",
      "            feature  importance\n",
      "6       like_count    0.024620\n",
      "0  IDENTITY_ATTACK    0.001507\n",
      "4           THREAT    0.001141\n",
      "7           shares    0.001095\n",
      "5         TOXICITY    0.000456\n",
      "2        PROFANITY    0.000249\n",
      "1           INSULT    0.000225\n",
      "3  SEVERE_TOXICITY    0.000071\n"
     ]
    }
   ],
   "source": [
    "featureImportance(classifier, X_test, y_test)\n",
    "\n",
    "# with concurrent.futures.ThreadPoolExecutor(max_workers=8) as executor:\n",
    "#     feature_importance_future = executor.submit(featureImportance, classifier, X_train, y_test)"
   ]
  },
  {
   "cell_type": "code",
   "execution_count": 55,
   "metadata": {},
   "outputs": [
    {
     "data": {
      "image/png": "[encoded data removed]",
      "text/plain": [
       "<Figure size 640x480 with 2 Axes>"
      ]
     },
     "metadata": {},
     "output_type": "display_data"
    }
   ],
   "source": [
    "confusionMatricePlot(y_test, y_prediction)"
   ]
  },
  {
   "cell_type": "markdown",
   "metadata": {},
   "source": [
    "***\n",
    "### Naive Bayes\n",
    "***"
   ]
  },
  {
   "cell_type": "code",
   "execution_count": 75,
   "metadata": {},
   "outputs": [],
   "source": [
    "from sklearn.inspection import permutation_importance\n",
    "from sklearn.naive_bayes import MultinomialNB\n",
    "\n",
    "start_time = time.time()\n",
    "\n",
    "X = df_model[col_to_keep]\n",
    "y = df_model['comments_binary']\n",
    "\n",
    "X_train, X_test, y_train, y_test = train_test_split(X, y, random_state=104, test_size=0.25, shuffle=True)\n",
    "\n",
    "classifier = MultinomialNB()\n",
    "classifier.fit(X_train, y_train)\n",
    "y_prediction = classifier.predict(X_test)\n",
    "\n",
    "end_time = time.time()"
   ]
  },
  {
   "cell_type": "code",
   "execution_count": 76,
   "metadata": {},
   "outputs": [
    {
     "name": "stdout",
     "output_type": "stream",
     "text": [
      "Accuracy: 1.00\n",
      "Precision: 0.99\n",
      "Recall: 1.00\n",
      "f1_score: 1.00\n",
      "Running time : 0.0 min\n"
     ]
    }
   ],
   "source": [
    "modelScore(y_test, y_prediction)\n",
    "durationTime(start_time, end_time)"
   ]
  },
  {
   "cell_type": "code",
   "execution_count": 59,
   "metadata": {},
   "outputs": [
    {
     "name": "stdout",
     "output_type": "stream",
     "text": [
      "\n",
      "Feature Importance:\n",
      "            feature    importance\n",
      "8  comments_binary  1.446258e-01\n",
      "6       like_count  2.358106e-02\n",
      "4           THREAT  1.538955e-05\n",
      "0  IDENTITY_ATTACK  8.549749e-07\n",
      "5         TOXICITY -1.709950e-06\n",
      "1           INSULT -3.419900e-06\n",
      "3  SEVERE_TOXICITY -3.419900e-05\n",
      "2        PROFANITY -5.215347e-05\n",
      "7           shares -8.216309e-03\n"
     ]
    }
   ],
   "source": [
    "featureImportance(classifier, X_test, y_test)"
   ]
  },
  {
   "cell_type": "code",
   "execution_count": 60,
   "metadata": {},
   "outputs": [
    {
     "data": {
      "image/png": "[encoded data removed]",
      "text/plain": [
       "<Figure size 640x480 with 2 Axes>"
      ]
     },
     "metadata": {},
     "output_type": "display_data"
    }
   ],
   "source": [
    "confusionMatricePlot(y_test, y_prediction)"
   ]
  },
  {
   "cell_type": "markdown",
   "metadata": {},
   "source": [
    "***\n",
    "### Gradient-Boosting\n",
    "***"
   ]
  },
  {
   "cell_type": "code",
   "execution_count": 72,
   "metadata": {},
   "outputs": [],
   "source": [
    "from sklearn.ensemble import GradientBoostingClassifier\n",
    "\n",
    "start_time = time.time()\n",
    "\n",
    "X = df_model[col_to_keep]\n",
    "y = df_model['comments_binary']\n",
    "\n",
    "X_train, X_test, y_train, y_test = train_test_split(X, y, random_state=104, test_size=0.10, shuffle=True)\n",
    "\n",
    "classifier = GradientBoostingClassifier(n_estimators=100, learning_rate=1.0, max_depth=1, random_state=0).fit(X_train, y_train)\n",
    "classifier.score(X_test, y_test)\n",
    "\n",
    "y_prediction = classifier.predict(X_test)\n",
    "end_time = time.time()"
   ]
  },
  {
   "cell_type": "code",
   "execution_count": 73,
   "metadata": {},
   "outputs": [
    {
     "name": "stdout",
     "output_type": "stream",
     "text": [
      "Accuracy: 1.00\n",
      "Precision: 1.00\n",
      "Recall: 1.00\n",
      "f1_score: 1.00\n",
      "Running time : 0.19 min\n"
     ]
    }
   ],
   "source": [
    "modelScore(y_test, y_prediction)\n",
    "durationTime(start_time, end_time)"
   ]
  },
  {
   "cell_type": "code",
   "execution_count": 74,
   "metadata": {},
   "outputs": [
    {
     "data": {
      "image/png": "[encoded data removed]",
      "text/plain": [
       "<Figure size 640x480 with 2 Axes>"
      ]
     },
     "metadata": {},
     "output_type": "display_data"
    }
   ],
   "source": [
    "confusionMatricePlot(y_test, y_prediction)"
   ]
  },
  {
   "cell_type": "markdown",
   "metadata": {},
   "source": [
    "***\n",
    "Visualisation\n",
    "***"
   ]
  },
  {
   "cell_type": "code",
   "execution_count": 88,
   "metadata": {},
   "outputs": [
    {
     "data": {
      "image/png": "[encoded data removed]",
      "text/plain": [
       "<Figure size 640x480 with 1 Axes>"
      ]
     },
     "metadata": {},
     "output_type": "display_data"
    }
   ],
   "source": [
    "from sklearn.metrics import roc_curve, auc\n",
    "import matplotlib.pyplot as plt\n",
    "\n",
    "fpr, tpr, thresholds = roc_curve(y_test, y_prediction)\n",
    "roc_auc = auc(fpr, tpr)\n",
    "\n",
    "plt.figure()\n",
    "plt.plot(fpr, tpr, label='ROC curve (area = %0.2f)' % roc_auc)\n",
    "plt.plot([0, 1], [0, 1], 'k--')\n",
    "plt.xlim([0.0, 1.0])\n",
    "plt.ylim([0.0, 1.05])\n",
    "plt.xlabel('False Positive Rate')\n",
    "plt.ylabel('True Positive Rate')\n",
    "plt.title('Receiver Operating Characteristic')\n",
    "plt.legend(loc=\"lower right\")\n",
    "plt.show()"
   ]
  }
 ],
 "metadata": {
  "kernelspec": {
   "display_name": "base",
   "language": "python",
   "name": "python3"
  },
  "language_info": {
   "codemirror_mode": {
    "name": "ipython",
    "version": 3
   },
   "file_extension": ".py",
   "mimetype": "text/x-python",
   "name": "python",
   "nbconvert_exporter": "python",
   "pygments_lexer": "ipython3",
   "version": "3.10.11"
  }
 },
 "nbformat": 4,
 "nbformat_minor": 2
}
