{
 "cells": [
  {
   "cell_type": "markdown",
   "metadata": {},
   "source": [
    "***\n",
    "# Modele de prédiction\n",
    "***"
   ]
  },
  {
   "cell_type": "code",
   "execution_count": 1,
   "metadata": {},
   "outputs": [],
   "source": [
    "# ====== Importer les library ====== #\n",
    "import pandas as pd\n",
    "import numpy as np\n",
    "from sklearn.metrics import accuracy_score\n",
    "from sklearn.metrics import precision_score\n",
    "from sklearn.metrics import recall_score\n",
    "from sklearn.metrics import f1_score\n",
    "\n",
    "pd.set_option('display.max_columns', None)"
   ]
  },
  {
   "cell_type": "code",
   "execution_count": 2,
   "metadata": {},
   "outputs": [],
   "source": [
    "# ====== Déterminer les path ====== #\n",
    "import os\n",
    "cwd = os.getcwd()\n",
    "\n",
    "df_path = cwd + '\\\\dataframe\\\\'"
   ]
  },
  {
   "cell_type": "code",
   "execution_count": 3,
   "metadata": {},
   "outputs": [
    {
     "data": {
      "text/html": [
       "<div>\n",
       "<style scoped>\n",
       "    .dataframe tbody tr th:only-of-type {\n",
       "        vertical-align: middle;\n",
       "    }\n",
       "\n",
       "    .dataframe tbody tr th {\n",
       "        vertical-align: top;\n",
       "    }\n",
       "\n",
       "    .dataframe thead th {\n",
       "        text-align: right;\n",
       "    }\n",
       "</style>\n",
       "<table border=\"1\" class=\"dataframe\">\n",
       "  <thead>\n",
       "    <tr style=\"text-align: right;\">\n",
       "      <th></th>\n",
       "      <th>IDENTITY_ATTACK</th>\n",
       "      <th>INSULT</th>\n",
       "      <th>PROFANITY</th>\n",
       "      <th>SEVERE_TOXICITY</th>\n",
       "      <th>THREAT</th>\n",
       "      <th>TOXICITY</th>\n",
       "      <th>comment_count</th>\n",
       "      <th>created_time_comments</th>\n",
       "      <th>id_comments</th>\n",
       "      <th>like_count</th>\n",
       "      <th>message_comments</th>\n",
       "      <th>parent</th>\n",
       "      <th>postId</th>\n",
       "      <th>attachments.data</th>\n",
       "      <th>created_time_posts</th>\n",
       "      <th>id_posts</th>\n",
       "      <th>mainTopic</th>\n",
       "      <th>message_posts</th>\n",
       "      <th>permalink_url</th>\n",
       "      <th>secondTopic</th>\n",
       "      <th>shares</th>\n",
       "      <th>title</th>\n",
       "    </tr>\n",
       "  </thead>\n",
       "  <tbody>\n",
       "    <tr>\n",
       "      <th>0</th>\n",
       "      <td>0.102216</td>\n",
       "      <td>0.651296</td>\n",
       "      <td>0.664565</td>\n",
       "      <td>0.350583</td>\n",
       "      <td>0.029933</td>\n",
       "      <td>0.588517</td>\n",
       "      <td>0</td>\n",
       "      <td>2023-06-02T16:06:59+0000</td>\n",
       "      <td>722477749883613_788168749338745</td>\n",
       "      <td>0</td>\n",
       "      <td>Faux, ce ne sera jamais le temps pour lui car ...</td>\n",
       "      <td>NaN</td>\n",
       "      <td>192978590727638_722477749883613</td>\n",
       "      <td>[{\"title\":\"Les incohérences de l’ingérence\",\"u...</td>\n",
       "      <td>2023-06-02T16:03:24+0000</td>\n",
       "      <td>192978590727638_722477749883613</td>\n",
       "      <td>composer-preview</td>\n",
       "      <td>HÉLÈNE BUZZETTI / Jagmeet Singh a soutenu que ...</td>\n",
       "      <td>https://www.facebook.com/553956616735728/posts...</td>\n",
       "      <td>7FJ4TUHKEFEXFIZI6DY2WAQE4E</td>\n",
       "      <td>0</td>\n",
       "      <td>Les incohérences de l’ingérence</td>\n",
       "    </tr>\n",
       "    <tr>\n",
       "      <th>1</th>\n",
       "      <td>0.005476</td>\n",
       "      <td>0.167515</td>\n",
       "      <td>0.255499</td>\n",
       "      <td>0.006981</td>\n",
       "      <td>0.005647</td>\n",
       "      <td>0.176317</td>\n",
       "      <td>1</td>\n",
       "      <td>2023-06-02T16:21:43+0000</td>\n",
       "      <td>722477749883613_1593974021087773</td>\n",
       "      <td>1</td>\n",
       "      <td>Mon dieu!! On nous prend sérieusement pour des...</td>\n",
       "      <td>NaN</td>\n",
       "      <td>192978590727638_722477749883613</td>\n",
       "      <td>[{\"title\":\"Les incohérences de l’ingérence\",\"u...</td>\n",
       "      <td>2023-06-02T16:03:24+0000</td>\n",
       "      <td>192978590727638_722477749883613</td>\n",
       "      <td>composer-preview</td>\n",
       "      <td>HÉLÈNE BUZZETTI / Jagmeet Singh a soutenu que ...</td>\n",
       "      <td>https://www.facebook.com/553956616735728/posts...</td>\n",
       "      <td>7FJ4TUHKEFEXFIZI6DY2WAQE4E</td>\n",
       "      <td>0</td>\n",
       "      <td>Les incohérences de l’ingérence</td>\n",
       "    </tr>\n",
       "  </tbody>\n",
       "</table>\n",
       "</div>"
      ],
      "text/plain": [
       "   IDENTITY_ATTACK    INSULT  PROFANITY  SEVERE_TOXICITY    THREAT  TOXICITY  \\\n",
       "0         0.102216  0.651296   0.664565         0.350583  0.029933  0.588517   \n",
       "1         0.005476  0.167515   0.255499         0.006981  0.005647  0.176317   \n",
       "\n",
       "   comment_count     created_time_comments                       id_comments  \\\n",
       "0              0  2023-06-02T16:06:59+0000   722477749883613_788168749338745   \n",
       "1              1  2023-06-02T16:21:43+0000  722477749883613_1593974021087773   \n",
       "\n",
       "   like_count                                   message_comments parent  \\\n",
       "0           0  Faux, ce ne sera jamais le temps pour lui car ...    NaN   \n",
       "1           1  Mon dieu!! On nous prend sérieusement pour des...    NaN   \n",
       "\n",
       "                            postId  \\\n",
       "0  192978590727638_722477749883613   \n",
       "1  192978590727638_722477749883613   \n",
       "\n",
       "                                    attachments.data  \\\n",
       "0  [{\"title\":\"Les incohérences de l’ingérence\",\"u...   \n",
       "1  [{\"title\":\"Les incohérences de l’ingérence\",\"u...   \n",
       "\n",
       "         created_time_posts                         id_posts  \\\n",
       "0  2023-06-02T16:03:24+0000  192978590727638_722477749883613   \n",
       "1  2023-06-02T16:03:24+0000  192978590727638_722477749883613   \n",
       "\n",
       "          mainTopic                                      message_posts  \\\n",
       "0  composer-preview  HÉLÈNE BUZZETTI / Jagmeet Singh a soutenu que ...   \n",
       "1  composer-preview  HÉLÈNE BUZZETTI / Jagmeet Singh a soutenu que ...   \n",
       "\n",
       "                                       permalink_url  \\\n",
       "0  https://www.facebook.com/553956616735728/posts...   \n",
       "1  https://www.facebook.com/553956616735728/posts...   \n",
       "\n",
       "                  secondTopic  shares                            title  \n",
       "0  7FJ4TUHKEFEXFIZI6DY2WAQE4E       0  Les incohérences de l’ingérence  \n",
       "1  7FJ4TUHKEFEXFIZI6DY2WAQE4E       0  Les incohérences de l’ingérence  "
      ]
     },
     "execution_count": 3,
     "metadata": {},
     "output_type": "execute_result"
    }
   ],
   "source": [
    "# ====== Importer les df ====== #\n",
    "df = pd.read_hdf(df_path + 'df_merge.h5')\n",
    "\n",
    "df.head(2)"
   ]
  },
  {
   "cell_type": "code",
   "execution_count": null,
   "metadata": {},
   "outputs": [],
   "source": [
    "df_model = df.copy()\n",
    "df_model['parent_binary'] = np.where(df_model['parent'].isna(), 0, 1)\n",
    "df_model['comments_binary'] = np.where(df_model['comment_count']==0, 0, 1)\n",
    "\n",
    "col_to_keep = ['IDENTITY_ATTACK', 'INSULT', 'PROFANITY', 'SEVERE_TOXICITY', 'THREAT', 'TOXICITY', 'like_count', 'parent_binary']\n",
    "df_model.head()"
   ]
  },
  {
   "cell_type": "markdown",
   "metadata": {},
   "source": [
    "***\n",
    "Fonction\n",
    "***"
   ]
  },
  {
   "cell_type": "code",
   "execution_count": 34,
   "metadata": {},
   "outputs": [],
   "source": [
    "def modelScore(y_test, y_prediction):\n",
    "    accuracy = accuracy_score(y_test, y_prediction)\n",
    "    print(f\"Accuracy: {accuracy:.2f}\")\n",
    "\n",
    "    precision = precision_score(y_test, y_prediction)\n",
    "    print(f\"Precision: {precision:.2f}\")\n",
    "\n",
    "    recall = recall_score(y_test, y_prediction)\n",
    "    print(f\"Recall: {recall:.2f}\")\n",
    "\n",
    "    f1 = f1_score(y_test, y_prediction)\n",
    "    print(f\"f1_score: {f1:.2f}\")"
   ]
  },
  {
   "cell_type": "markdown",
   "metadata": {},
   "source": [
    "***\n",
    "Random forest\n",
    "***"
   ]
  },
  {
   "cell_type": "code",
   "execution_count": 24,
   "metadata": {},
   "outputs": [
    {
     "name": "stdout",
     "output_type": "stream",
     "text": [
      "Best hyperparameters: {'n_estimators': 383, 'min_samples_split': 14, 'min_samples_leaf': 19, 'max_features': None, 'max_depth': 11}\n",
      "Test accuracy: 0.89\n"
     ]
    }
   ],
   "source": [
    "# Code pour optimiser les hyperparamètres\n",
    "from sklearn.ensemble import RandomForestClassifier\n",
    "from sklearn.model_selection import RandomizedSearchCV, train_test_split\n",
    "import numpy as np\n",
    "\n",
    "# X = df_model[col_to_keep]\n",
    "# y = df_model['comments_binary']\n",
    "\n",
    "# param_dist = {\n",
    "#     'n_estimators': np.random.randint(100, 500, 10),\n",
    "#     'max_depth': [None] + list(np.linspace(3, 20, 5).astype(int)),\n",
    "#     'min_samples_split': list(range(2, 21, 2)),\n",
    "#     'min_samples_leaf': list(range(1, 21, 2)),\n",
    "#     'max_features': ['sqrt', 'log2', None]\n",
    "# }\n",
    "\n",
    "# X_train, X_test, y_train, y_test = train_test_split(X, y, random_state=104, test_size=0.25, shuffle=True) \n",
    "\n",
    "# random_search = RandomizedSearchCV(\n",
    "#     RandomForestClassifier(),\n",
    "#     param_distributions=param_dist,\n",
    "#     n_iter=20,\n",
    "#     cv=5,\n",
    "#     scoring='accuracy',\n",
    "#     n_jobs=-1,\n",
    "#     random_state=42\n",
    "# )\n",
    "\n",
    "# random_search.fit(X_train, y_train)\n",
    "\n",
    "# print(\"Best hyperparameters:\", random_search.best_params_)\n",
    "\n",
    "# # Create a new Random Forest with the best hyperparameters\n",
    "# best_rf = random_search.best_estimator_\n",
    "\n",
    "# # Evaluate the best model on the test set\n",
    "# test_accuracy = best_rf.score(X_test, y_test)\n",
    "# print(f\"Test accuracy: {test_accuracy:.2f}\")\n"
   ]
  },
  {
   "cell_type": "code",
   "execution_count": 26,
   "metadata": {},
   "outputs": [],
   "source": [
    "from sklearn.ensemble import RandomForestClassifier\n",
    "\n",
    "X = df_model[col_to_keep]\n",
    "y = df_model['comments_binary']\n",
    "\n",
    "X_train, X_test, y_train, y_test = train_test_split(X, y, random_state=104, test_size=0.25, shuffle=True) \n",
    "\n",
    "classifier = RandomForestClassifier(n_estimators=383, min_samples_split=14, min_samples_leaf=19, max_features=None, max_depth=11)\n",
    "classifier.fit(X_train, y_train)\n",
    "\n",
    "y_prediction = classifier.predict(X_test)"
   ]
  },
  {
   "cell_type": "code",
   "execution_count": 33,
   "metadata": {},
   "outputs": [
    {
     "name": "stdout",
     "output_type": "stream",
     "text": [
      "Accuracy: 0.89\n",
      "Precision: 0.63\n",
      "Recall: 0.30\n",
      "f1_score: 0.40\n"
     ]
    }
   ],
   "source": [
    "modelScore(y_test, y_prediction)"
   ]
  },
  {
   "cell_type": "markdown",
   "metadata": {},
   "source": [
    "***\n",
    "Naive Bayes\n",
    "***"
   ]
  },
  {
   "cell_type": "code",
   "execution_count": 30,
   "metadata": {},
   "outputs": [],
   "source": [
    "from sklearn.naive_bayes import MultinomialNB\n",
    "\n",
    "X = df_model[col_to_keep]\n",
    "y = df_model['comments_binary']\n",
    "\n",
    "X_train, X_test, y_train, y_test = train_test_split(X, y, random_state=104, test_size=0.25, shuffle=True)\n",
    "\n",
    "clf = MultinomialNB()\n",
    "clf.fit(X_train, y_train)\n",
    "y_prediction = clf.predict(X_test)"
   ]
  },
  {
   "cell_type": "code",
   "execution_count": 31,
   "metadata": {},
   "outputs": [
    {
     "name": "stdout",
     "output_type": "stream",
     "text": [
      "Accuracy: 0.89\n",
      "Precision: 0.63\n",
      "Recall: 0.30\n",
      "f1_score: 0.40\n"
     ]
    }
   ],
   "source": [
    "modelScore(y_test, y_prediction)"
   ]
  }
 ],
 "metadata": {
  "kernelspec": {
   "display_name": "base",
   "language": "python",
   "name": "python3"
  },
  "language_info": {
   "codemirror_mode": {
    "name": "ipython",
    "version": 3
   },
   "file_extension": ".py",
   "mimetype": "text/x-python",
   "name": "python",
   "nbconvert_exporter": "python",
   "pygments_lexer": "ipython3",
   "version": "3.10.11"
  }
 },
 "nbformat": 4,
 "nbformat_minor": 2
}
