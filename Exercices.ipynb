{
 "cells": [
  {
   "cell_type": "markdown",
   "metadata": {},
   "source": [
    "***\n",
    "# Exercices\n",
    "***"
   ]
  },
  {
   "cell_type": "markdown",
   "metadata": {},
   "source": [
    "### Module 2"
   ]
  },
  {
   "cell_type": "code",
   "execution_count": 2,
   "metadata": {},
   "outputs": [],
   "source": [
    "import pandas as pd"
   ]
  },
  {
   "cell_type": "markdown",
   "metadata": {},
   "source": [
    "### Module 3"
   ]
  },
  {
   "cell_type": "code",
   "execution_count": 3,
   "metadata": {},
   "outputs": [
    {
     "data": {
      "text/plain": [
       "[(12.943, 24.4], (12.943, 24.4], (12.943, 24.4], (12.943, 24.4], (12.943, 24.4], ..., (35.8, 47.2], (35.8, 47.2], (35.8, 47.2], (47.2, 58.6], (58.6, 70.0]]\n",
       "Length: 30\n",
       "Categories (5, interval[float64, right]): [(12.943, 24.4] < (24.4, 35.8] < (35.8, 47.2] < (47.2, 58.6] < (58.6, 70.0]]"
      ]
     },
     "execution_count": 3,
     "metadata": {},
     "output_type": "execute_result"
    }
   ],
   "source": [
    "# bining\n",
    "\n",
    "lst = [13, 15, 16, 16, 19, 20, 20, 20, 21, 22, 22, 23, 25, 25, 25, 25, 30, 32, 33, 33, 35, 35, 35, 35, 36, 40, 45, 46, 52, 70]\n",
    "\n",
    "bin_lst = pd.cut(lst, bins=5, )\n",
    "bin_lst\n",
    "\n"
   ]
  }
 ],
 "metadata": {
  "kernelspec": {
   "display_name": "base",
   "language": "python",
   "name": "python3"
  },
  "language_info": {
   "codemirror_mode": {
    "name": "ipython",
    "version": 3
   },
   "file_extension": ".py",
   "mimetype": "text/x-python",
   "name": "python",
   "nbconvert_exporter": "python",
   "pygments_lexer": "ipython3",
   "version": "3.10.11"
  }
 },
 "nbformat": 4,
 "nbformat_minor": 2
}
